{
  "cells": [
    {
      "metadata": {},
      "cell_type": "markdown",
      "source": "# 2-2 Intro Python Practice\n## Lists\n<font size=\"5\" color=\"#00A0B2\"  face=\"verdana\"> <B>Student will be able to</B></font>  \n- Create Lists\n- Access items in a list\n- Add Items to the end of a list\n- Insert items into a list\n- Delete items from a list"
    },
    {
      "metadata": {},
      "cell_type": "markdown",
      "source": "## Create Lists"
    },
    {
      "metadata": {
        "trusted": true
      },
      "cell_type": "code",
      "source": "# [ ] create and populate list called days_of_week then print it\n\ndays_of_week=[\"Mon\",\"Tue\",\"Wed\",\"Thurs\",\"Fri\",\"Sat\",\"Sun\"]\nprint(days_of_week)",
      "execution_count": 3,
      "outputs": [
        {
          "output_type": "stream",
          "text": "['Mon', 'Tue', 'Wed', 'Thurs', 'Fri', 'Sat', 'Sun']\n",
          "name": "stdout"
        }
      ]
    },
    {
      "metadata": {
        "trusted": true
      },
      "cell_type": "code",
      "source": "# [ ] after days_of_week is run above, print the days in the list at odd indexes 1,3,5\n\nprint(days_of_week[1])\nprint(days_of_week[3])\nprint(days_of_week[5])\n",
      "execution_count": 4,
      "outputs": [
        {
          "output_type": "stream",
          "text": "Tue\nThurs\nSat\n",
          "name": "stdout"
        }
      ]
    },
    {
      "metadata": {},
      "cell_type": "markdown",
      "source": "## Phone letters\n![phone keys: number and letters](https://iajupyterprodblobs.blob.core.windows.net/imagecontainer/phone_letters.JPG)\nCreate a list, **`phone_letters`**, where the index 0 - 9 contains the letters for keys 0 - 9.  \n\n- 0 = ' ' (a space)\n- 1 = '' (empty)\n- 2 = 'ABC'\n- 3 = 'DEF'\n- etc...\n"
    },
    {
      "metadata": {
        "trusted": true
      },
      "cell_type": "code",
      "source": "# [ ] create and populate list called phone_letters then print it\nkey_0= ' ' \nkey_1= '' \nkey_2='ABC'\nkey_3='DEF'\nkey_4='GHI'\nkey_5=\"JKL\"\nkey_6=\"MNO\"\nkey_7=\"PQRS\"\nkey_8=\"TUV\"\nkey_9=\"WXYZ\"\nphone_letters=[key_0,key_1,key_2,key_3,key_4,key_5,key_6,key_7,key_8,key_9]\nprint(phone_letters)\n",
      "execution_count": 5,
      "outputs": [
        {
          "output_type": "stream",
          "text": "[' ', '', 'ABC', 'DEF', 'GHI', 'JKL', 'MNO', 'PQRS', 'TUV', 'WXYZ']\n",
          "name": "stdout"
        }
      ]
    },
    {
      "metadata": {
        "collapsed": true
      },
      "cell_type": "markdown",
      "source": "## Access Lists\n### for the 2 cells below\n- Use days_of_week list created above\n- Run the cell above to make the list available"
    },
    {
      "metadata": {
        "trusted": true
      },
      "cell_type": "code",
      "source": "# [ ] create a variable: day, assign day to \"Tuesday\" using days_of_week[]\n# [ ] print day variable\n\ndays_of_week=[\"Mon\",\"Tue\",\"Wed\",\"Thurs\",\"Fri\",\"Sat\",\"Sun\"]\nday=days_of_week[1]\nprint(day)\n",
      "execution_count": 6,
      "outputs": [
        {
          "output_type": "stream",
          "text": "Tue\n",
          "name": "stdout"
        }
      ]
    },
    {
      "metadata": {
        "trusted": true
      },
      "cell_type": "code",
      "source": "# PART 2\n# [ ] assign day to days_of_week index = 5\n# [ ] print day\ndays_of_week=[\"Mon\",\"Tue\",\"Wed\",\"Thurs\",\"Fri\",\"Sat\",\"Sun\"]\nday=days_of_week[5]\nprint(day)\n",
      "execution_count": 7,
      "outputs": [
        {
          "output_type": "stream",
          "text": "Sat\n",
          "name": "stdout"
        }
      ]
    },
    {
      "metadata": {},
      "cell_type": "markdown",
      "source": "## Append and Insert items into a list\n\n### Endsday, Midsday, Resterday\n#### for the exercises below\n- Use days_of_week list created above\n- Run the cell defining days_of_week above to make the list available"
    },
    {
      "metadata": {
        "trusted": true
      },
      "cell_type": "code",
      "source": "# [ ] Make up a new day! - append an 8th day of the week to days_of_week \n# [ ] print days_of_week\n\ndays_of_week=[\"Mon\",\"Tue\",\"Wed\",\"Thurs\",\"Fri\",\"Sat\",\"Sun\"]\ndays_of_week.append(\"Endsday\")\nprint(days_of_week)\n",
      "execution_count": 9,
      "outputs": [
        {
          "output_type": "stream",
          "text": "['Mon', 'Tue', 'Wed', 'Thurs', 'Fri', 'Sat', 'Sun', 'Endsday']\n",
          "name": "stdout"
        }
      ]
    },
    {
      "metadata": {
        "trusted": true
      },
      "cell_type": "code",
      "source": "days_of_week.append(\"Endsday\")\nprint(days_of_week)\n",
      "execution_count": 10,
      "outputs": [
        {
          "output_type": "stream",
          "text": "['Mon', 'Tue', 'Wed', 'Thurs', 'Fri', 'Sat', 'Sun', 'Endsday', 'Endsday']\n",
          "name": "stdout"
        }
      ]
    },
    {
      "metadata": {},
      "cell_type": "markdown",
      "source": "### Question  \n- What happens if you keep running the cell above?  \n- How can you return to the initial state with the regular 7 days in days_of_week? "
    },
    {
      "metadata": {
        "trusted": true
      },
      "cell_type": "code",
      "source": "# [ ] Make up another new day - insert a new day into the middle of days_of_week between Wed - Thurs\n# [ ] print days_of_week\ndays_of_week=[\"Mon\",\"Tue\",\"Wed\",\"Thurs\",\"Fri\",\"Sat\",\"Sun\"]\ndays_of_week.insert(3,\"Midsday\")\nprint(days_of_week)\n\n",
      "execution_count": 11,
      "outputs": [
        {
          "output_type": "stream",
          "text": "['Mon', 'Tue', 'Wed', 'Midsday', 'Thurs', 'Fri', 'Sat', 'Sun']\n",
          "name": "stdout"
        }
      ]
    },
    {
      "metadata": {
        "trusted": true
      },
      "cell_type": "code",
      "source": "# [ ]  Extend the weekend - insert a day between Fri & Sat in the days_of_week list\n# [ ] print days_of_week\n\ndays_of_week=[\"Mon\",\"Tue\",\"Wed\",\"Thurs\",\"Fri\",\"Sat\",\"Sun\"]\ndays_of_week.insert(6,\"Restday\")\nprint(days_of_week)\n\n",
      "execution_count": 12,
      "outputs": [
        {
          "output_type": "stream",
          "text": "['Mon', 'Tue', 'Wed', 'Thurs', 'Fri', 'Sat', 'Restday', 'Sun']\n",
          "name": "stdout"
        }
      ]
    },
    {
      "metadata": {},
      "cell_type": "markdown",
      "source": "## Delete from a list\n### `del` & `.pop()` some bad ideas\n#### exercises below assume days_of_week appended/inserted 3 extra days in previous exercises"
    },
    {
      "metadata": {
        "trusted": true
      },
      "cell_type": "code",
      "source": "# [ ] print days_of_week \n# [ ] modified week is too long - pop() the last index of days_of_week & print .pop() value\n# [ ] print days_of_week\ndays_of_week=[\"Mon\",\"Tue\",\"Wed\",\"Midsday\",\"Thurs\",\"Fri\",\"Sat\",\"Restday\",\"Sun\",\"Endsday\"]\nprint(days_of_week)\nlast_day=days_of_week.pop()\nprint(last_day)\nprint(days_of_week)\n",
      "execution_count": 1,
      "outputs": [
        {
          "output_type": "stream",
          "text": "['Mon', 'Tue', 'Wed', 'Midsday', 'Thurs', 'Fri', 'Sat', 'Restday', 'Sun', 'Endsday']\nEndsday\n['Mon', 'Tue', 'Wed', 'Midsday', 'Thurs', 'Fri', 'Sat', 'Restday', 'Sun']\n",
          "name": "stdout"
        }
      ]
    },
    {
      "metadata": {
        "trusted": true
      },
      "cell_type": "code",
      "source": "# [ ] print days_of_week \n# [ ] delete (del) the new day added to the middle of the week \n# [ ] print days_of_week\ndays_of_week=[\"Mon\",\"Tue\",\"Wed\",\"Midsday\",\"Thurs\",\"Fri\",\"Sat\",\"Restday\",\"Sun\",\"Endsday\"]\nprint(days_of_week)\ndel days_of_week[3]\nprint(days_of_week)\n\n",
      "execution_count": 2,
      "outputs": [
        {
          "output_type": "stream",
          "text": "['Mon', 'Tue', 'Wed', 'Midsday', 'Thurs', 'Fri', 'Sat', 'Restday', 'Sun', 'Endsday']\n['Mon', 'Tue', 'Wed', 'Thurs', 'Fri', 'Sat', 'Restday', 'Sun', 'Endsday']\n",
          "name": "stdout"
        }
      ]
    },
    {
      "metadata": {
        "trusted": true
      },
      "cell_type": "code",
      "source": "# [ ] print days_of_week \n# [ ] programmers choice - pop() any day in days_of week & print .pop() value\n# [ ] print days_of_week\n\ndays_of_week=[\"Mon\",\"Tue\",\"Wed\",\"Midsday\",\"Thurs\",\"Fri\",\"Sat\",\"Restday\",\"Sun\",\"Endsday\"]\nprint(days_of_week)\nsecond_day=days_of_week.pop(1)\nprint(second_day)\nprint(days_of_week)",
      "execution_count": 3,
      "outputs": [
        {
          "output_type": "stream",
          "text": "['Mon', 'Tue', 'Wed', 'Midsday', 'Thurs', 'Fri', 'Sat', 'Restday', 'Sun', 'Endsday']\nTue\n['Mon', 'Wed', 'Midsday', 'Thurs', 'Fri', 'Sat', 'Restday', 'Sun', 'Endsday']\n",
          "name": "stdout"
        }
      ]
    },
    {
      "metadata": {},
      "cell_type": "markdown",
      "source": "## Program:  Letter to Number Function\n# TODO: insert video\n### for the exercise below\n- Use phone_letters list created above\n- Run the cell above to make the list available \n\n#### recall unit 1 using **`in`** to search for a string in a string\n```python\nif \"e\" in \"open\":\n    print(\"e found\")\nelse:\n   print(\"e not found\")\n```\n\n![phone keys: number and letters](https://iajupyterprodblobs.blob.core.windows.net/imagecontainer/phone_letters.JPG)\n\n### create funtion let_to_num()\n- let_to_num() takes input of a single letter, space or empty string stored in an argument variable: letter\n  - use `while key < 10:` to try numbers 0 - 9 as index for `phone_letters` (\"key\" = phone dial pad key)\n  - check if `letter` variable is in the index of `phone_letters[key]` \n```python\nkey = 0\nwhile key < 10:\n    if # Create Code: determine if letter is **`in`** any of the phone_letters[key] where key is the index 0 -9:\n        return key\n    else:\n        key = key + 1\nreturn \"Not Found\"\n```\n- return the number or \"Not Found\"\n- **call** let_to_num() to test the function so it prints the argument and return value with:\n  - space\n  - lowercase letter\n  - different letter, uppercase\n  - a number\n  \n**Bonus**: create a special case to check if empty string (`\"\"`) was submitted   \nthe problem is that an empty string will be found in all strings as  \n```python\nif \"\" in \"ABC\": \n```  \nis True, and is true for any phone_letters, but should `return 1`"
    },
    {
      "metadata": {
        "trusted": true
      },
      "cell_type": "code",
      "source": "# [ ] create let_to_num()\n\nkey_0= ' ' \nkey_1= '' \nkey_2='ABC'\nkey_3='DEF'\nkey_4='GHI'\nkey_5=\"JKL\"\nkey_6=\"MNO\"\nkey_7=\"PQRS\"\nkey_8=\"TUV\"\nkey_9=\"WXYZ\"\nphone_letters=[key_0,key_1,key_2,key_3,key_4,key_5,key_6,key_7,key_8,key_9]\nprint(phone_letters)\n\ndef let_to_num(letter):\n    key=0\n    while key<10:\n        if letter==\"\":\n            return 1\n        elif letter.upper() in phone_letters[key]:\n            return key\n        \n        else:\n            key=key+1\n    return \"not found\"\ntest_letter=input(\"please enter:\")\nlet_to_num(test_letter)\n            \n    \n",
      "execution_count": 24,
      "outputs": [
        {
          "output_type": "stream",
          "text": "[' ', '', 'ABC', 'DEF', 'GHI', 'JKL', 'MNO', 'PQRS', 'TUV', 'WXYZ']\nplease enter:\n",
          "name": "stdout"
        },
        {
          "output_type": "execute_result",
          "execution_count": 24,
          "data": {
            "text/plain": "1"
          },
          "metadata": {}
        }
      ]
    },
    {
      "metadata": {
        "trusted": true
      },
      "cell_type": "code",
      "source": "",
      "execution_count": null,
      "outputs": []
    },
    {
      "metadata": {},
      "cell_type": "markdown",
      "source": "## Challenge: reverse a string \n### using \n- while\n- .pop()\n- insert()  \n\n**`pop()`** the **first item** in the list and add to the beginning of a new string that will be reversed"
    },
    {
      "metadata": {
        "trusted": true
      },
      "cell_type": "code",
      "source": "# [ ] Challenge: write the code for \"reverse a string\"\n# [ ] Challenge: write the code for \"reverse a string\" reversing some_numbers\n\n    \nsome_numbers =[1,2,3,4,5,6,7,8,9,11,22,33,44,55,66,77]\nreverse_numbers=[]\n\nwhile some_numbers:\n    last_number=some_numbers.pop(0)\n    reverse_numbers.insert(0,last_number)\n\nprint(reverse_numbers)\n    \n    \n ",
      "execution_count": 26,
      "outputs": [
        {
          "output_type": "stream",
          "text": "[77, 66, 55, 44, 33, 22, 11, 9, 8, 7, 6, 5, 4, 3, 2, 1]\n",
          "name": "stdout"
        }
      ]
    },
    {
      "metadata": {
        "trusted": false
      },
      "cell_type": "code",
      "source": "",
      "execution_count": null,
      "outputs": []
    },
    {
      "metadata": {},
      "cell_type": "markdown",
      "source": "[Terms of use](http://go.microsoft.com/fwlink/?LinkID=206977) &nbsp; [Privacy & cookies](https://go.microsoft.com/fwlink/?LinkId=521839) &nbsp; © 2017 Microsoft"
    }
  ],
  "metadata": {
    "anaconda-cloud": {},
    "kernelspec": {
      "name": "python3",
      "display_name": "Python 3",
      "language": "python"
    },
    "language_info": {
      "mimetype": "text/x-python",
      "nbconvert_exporter": "python",
      "name": "python",
      "file_extension": ".py",
      "version": "3.5.4",
      "pygments_lexer": "ipython3",
      "codemirror_mode": {
        "version": 3,
        "name": "ipython"
      }
    }
  },
  "nbformat": 4,
  "nbformat_minor": 1
}