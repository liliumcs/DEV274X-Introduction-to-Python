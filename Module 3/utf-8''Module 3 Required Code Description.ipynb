{
  "cells": [
    {
      "metadata": {
        "trusted": true
      },
      "cell_type": "code",
      "source": "#Program: poem mixer\n#This program takes string input and then prints out a mixed order version of the string\n\ndef word_mixer(word_list):\n    word_list.sort()\n    new_words=[]\n    while len(word_list)>5:\n        new_words.append(word_list.pop(-5)+\" \")\n        new_words.append(word_list.pop(0)+\" \")\n        new_words.append(word_list.pop()+\"\\n\")\n        \n    return(new_words)\n        \n    \n    \npoemstring=input(\"please enter a poem, verse or saying: \\n\")\nwords_list=poemstring.split()\nlength=len(words_list)\nfor index in range(0,len(words_list)):\n    if len(words_list[index])<=3:\n        words_list[index] = words_list[index].lower()\n    elif len(words_list[index])>=7:\n        words_list[index] = words_list[index].upper()\n    else:\n        pass\n\nprint(\"\".join(word_mixer(words_list)))",
      "execution_count": 18,
      "outputs": [
        {
          "output_type": "stream",
          "name": "stdout",
          "text": "please enter a poem, verse or saying: \nLittle fly, Thy summer’s play My thoughtless hand Has brushed away. Am not I A fly like thee? Or art not thou A man like me?\nor BRUSHED thy\nnot Little thou\nme? SUMMER’S thee?\nlike THOUGHTLESS play\ni a not\nhand a my\nfly am man\n\n"
        }
      ]
    },
    {
      "metadata": {
        "trusted": true
      },
      "cell_type": "code",
      "source": "",
      "execution_count": null,
      "outputs": []
    }
  ],
  "metadata": {
    "kernelspec": {
      "name": "python3",
      "display_name": "Python 3",
      "language": "python"
    },
    "language_info": {
      "mimetype": "text/x-python",
      "nbconvert_exporter": "python",
      "name": "python",
      "file_extension": ".py",
      "version": "3.5.4",
      "pygments_lexer": "ipython3",
      "codemirror_mode": {
        "version": 3,
        "name": "ipython"
      }
    }
  },
  "nbformat": 4,
  "nbformat_minor": 1
}